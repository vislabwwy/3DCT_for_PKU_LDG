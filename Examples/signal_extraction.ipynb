{
 "cells": [
  {
   "attachments": {},
   "cell_type": "markdown",
   "metadata": {},
   "source": [
    "# Signal extraction Demo: extract signals of cells\n",
    "\n",
    "This notebook is written for Luo-Lab experiment, which will extract the signals of the segmented and tracked cells.\n",
    "\n",
    "**The basic procedures:**\n",
    "- A. Import packages\n",
    "- B. Initialize the parameters for tracking\n",
    "- C. Extract signals depending on the tracking result.\n",
    "- D. Plot the extraction result.\n",
    "\n",
    "\n",
    "**Please run following codes according to the instructions**"
   ]
  },
  {
   "attachments": {},
   "cell_type": "markdown",
   "metadata": {},
   "source": [
    "## A. Import packages"
   ]
  },
  {
   "cell_type": "code",
   "execution_count": null,
   "metadata": {},
   "outputs": [],
   "source": [
    "%load_ext autoreload\n",
    "%autoreload 2\n",
    "import matplotlib.pyplot as plt\n",
    "from CellTracker import analyses"
   ]
  },
  {
   "attachments": {},
   "cell_type": "markdown",
   "metadata": {},
   "source": [
    "## B. Initialize the parameters for tracking\n",
    "- path_raw: the path of raw data from which we can extract cell signals.\n",
    "- path_tracked: the path of tracked data from which we can locate cells according their ids in all the frames.\n",
    "- volume_num: the number of T-series.\n",
    "- layer_num: the number of Z-slices."
   ]
  },
  {
   "cell_type": "code",
   "execution_count": null,
   "metadata": {},
   "outputs": [],
   "source": [
    "path_raw = \"./worm1/raw_data/Raw_t%04i_z%04i.tif\"\n",
    "path_tracked = \"./worm1/track_results_SingleMode/track_results_t%04i_z%04i.tif\"\n",
    "volume_num = int(input('enter volume numbers(T value): ')) \n",
    "layer_num = int(input('enter layer numbers(Z value): '))"
   ]
  },
  {
   "attachments": {},
   "cell_type": "markdown",
   "metadata": {},
   "source": [
    "## C. Extract signals depending on the tracking result.\n",
    "Extract signals and save results under the folder \"cell_trace\"."
   ]
  },
  {
   "cell_type": "code",
   "execution_count": null,
   "metadata": {},
   "outputs": [],
   "source": [
    "signals = analyses.get_signals(path_raw, path_tracked, volume_num, layer_num)\n",
    "fig,axes = analyses.draw_signals(signals)\n",
    "plt.savefig(\"./cell_trace/signal_extraction.png\")"
   ]
  },
  {
   "attachments": {},
   "cell_type": "markdown",
   "metadata": {},
   "source": [
    "## D. Plot the extraction result."
   ]
  },
  {
   "cell_type": "code",
   "execution_count": null,
   "metadata": {},
   "outputs": [],
   "source": [
    "plt.show()"
   ]
  }
 ],
 "metadata": {
  "language_info": {
   "name": "python"
  },
  "orig_nbformat": 4
 },
 "nbformat": 4,
 "nbformat_minor": 2
}
